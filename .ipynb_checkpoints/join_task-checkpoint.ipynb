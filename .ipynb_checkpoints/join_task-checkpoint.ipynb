{
 "cells": [
  {
   "cell_type": "code",
   "execution_count": 6,
   "id": "360a160f",
   "metadata": {},
   "outputs": [],
   "source": [
    "import mysql.connector as connector"
   ]
  },
  {
   "cell_type": "code",
   "execution_count": 55,
   "id": "9e8a823a",
   "metadata": {},
   "outputs": [
    {
     "name": "stdout",
     "output_type": "stream",
     "text": [
      "True\n",
      "CMySQLCursor: (Nothing executed yet)\n",
      "Bookings\n",
      "Courses\n",
      "Cuisines\n",
      "Customers\n",
      "Delivery\n",
      "Desserts\n",
      "Drinks\n",
      "Menu\n",
      "menunameview\n",
      "Orders\n",
      "orderstotalcostgreaterthan150view\n",
      "ordersview\n",
      "Starters\n",
      "(0, 1, datetime.datetime(2022, 11, 13, 0, 0), 3)\n",
      "(1, 1, datetime.datetime(2022, 10, 10, 0, 0), 5)\n",
      "(2, 3, datetime.datetime(2022, 11, 12, 0, 0), 3)\n",
      "(3, 2, datetime.datetime(2022, 10, 11, 0, 0), 2)\n",
      "(4, 1, datetime.datetime(2022, 10, 13, 0, 0), 2)\n",
      "(5, 1, datetime.datetime(2022, 11, 14, 0, 0), 3)\n",
      "(6, 2, datetime.datetime(2022, 11, 14, 0, 0), 2)\n",
      "(Decimal('70'), 1, 'Jason Wang')\n"
     ]
    }
   ],
   "source": [
    "connection = connector.connect(user=\"root\", password=\"password\", host=\"127.0.0.1\", database=\"LittleLemonDB\")\n",
    "cursor = connection.cursor()\n",
    "print(connection.is_connected())\n",
    "print(cursor)\n",
    "\n",
    "cursor.execute(\"show tables\")\n",
    "for r in cursor.fetchall():\n",
    "    print(r[0])\n",
    "\n",
    "cursor.execute(\"select * from bookings\")\n",
    "for r in cursor.fetchall():\n",
    "    print(r)\n",
    "    \n",
    "cursor.execute(\"select Orders.TotalCost, Orders.CustomerID, CONCAT(Customers.FirstName, ' ', Customers.LastName) as FullName from Orders inner join Customers ON Orders.CustomerID = Customers.CustomerID where Orders.TotalCost > 60\")\n",
    "for r in cursor.fetchall():\n",
    "    print(r)"
   ]
  },
  {
   "cell_type": "code",
   "execution_count": null,
   "id": "444f20da",
   "metadata": {},
   "outputs": [],
   "source": []
  }
 ],
 "metadata": {
  "kernelspec": {
   "display_name": "Python 3 (ipykernel)",
   "language": "python",
   "name": "python3"
  },
  "language_info": {
   "codemirror_mode": {
    "name": "ipython",
    "version": 3
   },
   "file_extension": ".py",
   "mimetype": "text/x-python",
   "name": "python",
   "nbconvert_exporter": "python",
   "pygments_lexer": "ipython3",
   "version": "3.11.3"
  }
 },
 "nbformat": 4,
 "nbformat_minor": 5
}
